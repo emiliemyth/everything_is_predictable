{
 "cells": [
  {
   "cell_type": "markdown",
   "id": "95dad64e",
   "metadata": {},
   "source": [
    "# Confusion Matrix\n",
    "p. 8 - 20\n",
    "\n",
    "Wikipedia says that a confusion matrix \"is a specific table layout that allows visualization of the performance \n",
    "of an algorithm.\"\n",
    "\n",
    "In the book, the author uses a binomial confusion matrix to shows a version with true positives, false negatives, \n",
    "false positives, and true negatives. One example from p. 8:\n",
    "\n",
    "|  | Have Cancer (1,000) | Don't have Cancer (99,000) |\n",
    "| --- | --- | --- |\n",
    "| Test Positive | 80% of those that have cancer<br> (true positives) <br> 800 | 10% of those that don't have cancer <br>  (false positives) <br>  9,900 |\n",
    "| Test Negative | 20% of those that have cancer<br> (false negatives) <br> 200 | 90% of those that don't have cancer <br> (true negatives)<br>  89,100 |\n",
    "\n",
    "Of the 10,700 people tested positive (800 + 9,900), only 800 had cancer, or about 7%.\n",
    "\n",
    "The code below calculates several different binomial confusion matrices found in the Introduction."
   ]
  },
  {
   "cell_type": "code",
   "execution_count": null,
   "id": "7e924ba8",
   "metadata": {},
   "outputs": [],
   "source": [
    "# This uses Python 3.9.6 (but should work on almost any 3.* Python.)\n",
    "# Calculating the different binomial confusion matrices.\n",
    "# This version only works when we know the total population, population positive rate, sensitivity, and specifity.\n",
    "\n",
    "class ConfusionMatrix:\n",
    "\n",
    "    def __init__(self, page, total_population, population_positive_rate, sensitivity, specificity):\n",
    "        self.page = page\n",
    "        self.total_population = total_population\n",
    "        self.population_positive_rate = population_positive_rate\n",
    "        self.sensitivity = sensitivity\n",
    "        self.specificity = specificity\n",
    "\n",
    "    def population_positive(self):\n",
    "        return self.total_population * self.population_positive_rate\n",
    "\n",
    "    def population_negative(self):\n",
    "        return self.total_population * (1 - self.population_positive_rate)\n",
    "\n",
    "    def true_positive(self):\n",
    "        return self.population_positive() * self.sensitivity\n",
    "\n",
    "    def false_negative(self):\n",
    "        return self.population_positive() * (1 - self.sensitivity)\n",
    "\n",
    "    def false_positive(self):\n",
    "        return self.population_negative() * (1 - self.specificity)\n",
    "\n",
    "    def true_negative(self):\n",
    "        return self.population_negative() * self.specificity\n",
    "\n",
    "    def chance_if_tested_positive_of_actually_being_positive(self):\n",
    "        return 100 * self.true_positive() / (self.true_positive() + self.false_positive())\n",
    "\n",
    "    def chance_if_tested_negative_of_actually_being_negative(self):\n",
    "        return 100 * self.true_negative() / (self.true_negative() + self.false_negative())\n",
    "\n",
    "    def print_details(self):\n",
    "        citpoabp = self.chance_if_tested_positive_of_actually_being_positive()\n",
    "        citnoabn = self.chance_if_tested_negative_of_actually_being_negative()\n",
    "\n",
    "        print(f\"This confusion matrix on page {self.page} has a population of {self.total_population}\")\n",
    "        print(f\"Positive rate of {self.population_positive_rate * 100}%\")\n",
    "        print(f\"Sensitivity rate of {self.sensitivity * 100}%\")\n",
    "        print(f\"Specificity rate of {self.specificity * 100}%\")\n",
    "        print(f\"Confusion Matrix:\")\n",
    "        print(f\"True Positives: {self.true_positive():.0f}\")\n",
    "        print(f\"False Positives: {self.false_positive():.0f}\")\n",
    "        print(f\"False Negatives: {self.false_negative():.0f}\")\n",
    "        print(f\"True Negatives: {self.true_negative():.0f}\")\n",
    "        print(f\"The chance of testing positive and actually being positive is {citpoabp:.2f}%.\")\n",
    "        print(f\"The chance of testing negative and actually being negative is {citnoabn:.2f}%.\")\n",
    "        print(\"\")"
   ]
  },
  {
   "cell_type": "code",
   "execution_count": 2,
   "id": "3fe92efc",
   "metadata": {},
   "outputs": [
    {
     "name": "stdout",
     "output_type": "stream",
     "text": [
      "This confusion matrix on page 8 (First one) has a population of 100000.0\n",
      "Positive rate of 1.0%\n",
      "Sensitivity rate of 80.0%\n",
      "Specificity rate of 90.0%\n",
      "Confusion Matrix:\n",
      "True Positives: 800\n",
      "False Positives: 9900\n",
      "False Negatives: 200\n",
      "True Negatives: 89100\n",
      "The chance of testing positive and actually being positive is 7.48%.\n",
      "The chance of testing negative and actually being negative is 99.78%.\n",
      "\n"
     ]
    }
   ],
   "source": [
    "# First one on page 8.\n",
    "confusion_matrix_1 = ConfusionMatrix(\"8 (First one)\", 100000.0, 0.01, 0.80, 0.90)\n",
    "confusion_matrix_1.print_details()"
   ]
  },
  {
   "cell_type": "code",
   "execution_count": 3,
   "id": "d4927895",
   "metadata": {},
   "outputs": [
    {
     "name": "stdout",
     "output_type": "stream",
     "text": [
      "This confusion matrix on page 8 (Second one) has a population of 100000.0\n",
      "Positive rate of 10.0%\n",
      "Sensitivity rate of 80.0%\n",
      "Specificity rate of 90.0%\n",
      "Confusion Matrix:\n",
      "True Positives: 8000\n",
      "False Positives: 9000\n",
      "False Negatives: 2000\n",
      "True Negatives: 81000\n",
      "The chance of testing positive and actually being positive is 47.06%.\n",
      "The chance of testing negative and actually being negative is 97.59%.\n",
      "\n"
     ]
    }
   ],
   "source": [
    "# Second one on page 8.\n",
    "confusion_matrix_2 = ConfusionMatrix(\"8 (Second one)\", 100000.0, 0.10, 0.80, 0.90)\n",
    "confusion_matrix_2.print_details()"
   ]
  },
  {
   "cell_type": "code",
   "execution_count": 4,
   "id": "24a1ce9e",
   "metadata": {},
   "outputs": [
    {
     "name": "stdout",
     "output_type": "stream",
     "text": [
      "This confusion matrix on page 11 has a population of 1000000.0\n",
      "Positive rate of 3.0%\n",
      "Sensitivity rate of 95.0%\n",
      "Specificity rate of 95.0%\n",
      "Confusion Matrix:\n",
      "True Positives: 28500\n",
      "False Positives: 48500\n",
      "False Negatives: 1500\n",
      "True Negatives: 921500\n",
      "The chance of testing positive and actually being positive is 37.01%.\n",
      "The chance of testing negative and actually being negative is 99.84%.\n",
      "\n"
     ]
    }
   ],
   "source": [
    "# Page 11.\n",
    "confusion_matrix_3 = ConfusionMatrix(\"11\", 1000000.0, 0.03, 0.95, 0.95)\n",
    "confusion_matrix_3.print_details()"
   ]
  },
  {
   "cell_type": "code",
   "execution_count": 5,
   "id": "bcc6a971",
   "metadata": {},
   "outputs": [
    {
     "name": "stdout",
     "output_type": "stream",
     "text": [
      "This confusion matrix on page 13 has a population of 1000000.0\n",
      "Positive rate of 0.1%\n",
      "Sensitivity rate of 99.0%\n",
      "Specificity rate of 99.0%\n",
      "Confusion Matrix:\n",
      "True Positives: 990\n",
      "False Positives: 9990\n",
      "False Negatives: 10\n",
      "True Negatives: 989010\n",
      "The chance of testing positive and actually being positive is 9.02%.\n",
      "The chance of testing negative and actually being negative is 100.00%.\n",
      "\n"
     ]
    }
   ],
   "source": [
    "# Page 13.\n",
    "confusion_matrix_4 = ConfusionMatrix(\"13\", 1000000.0, 0.001, 0.99, 0.99)\n",
    "confusion_matrix_4.print_details()"
   ]
  },
  {
   "cell_type": "markdown",
   "id": "9a293b23",
   "metadata": {},
   "source": [
    "## Possible expansions:\n",
    "[x] Change Markdown file and Python file to Jupyter Notebook<br>\n",
    "[] Add data visualizations<br>\n",
    "[] Make the numbers more human readable.<br>\n",
    "[] Add the other confusion matrices. These didn't have the same inputs as the others.<br>\n",
    "[] Plot out the confusion matrices.<br>"
   ]
  }
 ],
 "metadata": {
  "kernelspec": {
   "display_name": "Python 3",
   "language": "python",
   "name": "python3"
  },
  "language_info": {
   "codemirror_mode": {
    "name": "ipython",
    "version": 3
   },
   "file_extension": ".py",
   "mimetype": "text/x-python",
   "name": "python",
   "nbconvert_exporter": "python",
   "pygments_lexer": "ipython3",
   "version": "3.9.6"
  }
 },
 "nbformat": 4,
 "nbformat_minor": 5
}
